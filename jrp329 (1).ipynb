{
 "cells": [
  {
   "cell_type": "markdown",
   "id": "88bb9a7d",
   "metadata": {},
   "source": [
    "Before you turn this problem in, make sure everything runs as expected. First, **restart the kernel** (in the menubar, select Kernel $\\rightarrow$ Restart) and then **run all cells** (in the menubar, select Cell $\\rightarrow$ Run All).\n",
    "\n",
    "Make sure you fill in any place that says `YOUR CODE HERE` or \"YOUR ANSWER HERE\", as well as your name and collaborators below:"
   ]
  },
  {
   "cell_type": "code",
   "execution_count": null,
   "id": "b2ca2d6f",
   "metadata": {},
   "outputs": [],
   "source": [
    "NAME = \"Jay Patel\"\n",
    "COLLABORATORS = \"\""
   ]
  },
  {
   "cell_type": "markdown",
   "id": "d49f1254",
   "metadata": {},
   "source": [
    "---"
   ]
  },
  {
   "cell_type": "markdown",
   "id": "c1a08017",
   "metadata": {},
   "source": [
    "Before you turn this problem in, make sure everything runs as expected. First, **restart the kernel** (in the menubar, select Kernel $\\rightarrow$ Restart) and then **run all cells** (in the menubar, select Cell $\\rightarrow$ Run All).\n",
    "\n",
    "Make sure you fill in any place that says `YOUR CODE HERE` or \"YOUR ANSWER HERE\", as well as your name and collaborators below:"
   ]
  },
  {
   "cell_type": "code",
   "execution_count": 1,
   "id": "f8756ad5",
   "metadata": {},
   "outputs": [],
   "source": [
    "NAME = \"Jay Patel\"\n",
    "COLLABORATORS = \"\""
   ]
  },
  {
   "cell_type": "code",
   "execution_count": null,
   "id": "7ac620d7-c483-4945-8e8a-54a30f593b18",
   "metadata": {},
   "outputs": [],
   "source": [
    "Meta Stock Analysis"
   ]
  },
  {
   "cell_type": "markdown",
   "id": "385a1a27",
   "metadata": {},
   "source": [
    "---"
   ]
  },
  {
   "cell_type": "code",
   "execution_count": 31,
   "id": "7a16ecd1-3405-4b49-aec7-266fee3ba341",
   "metadata": {},
   "outputs": [],
   "source": [
    "import pandas as pd\n",
    "import matplotlib.pyplot as plt\n",
    "from statsmodels.tsa.arima.model import ARIMA\n",
    "from sklearn.metrics import mean_squared_error\n",
    "import numpy as np\n",
    "import warnings\n",
    "warnings.filterwarnings(\"ignore\", category=FutureWarning)\n",
    "\n",
    "# Load the dataset\n",
    "meta_data = pd.read_csv(\"META.csv\")  # Replace with the path to your dataset\n",
    "meta_data['Date'] = pd.to_datetime(meta_data['Date'])\n",
    "meta_data.set_index('Date', inplace=True)"
   ]
  },
  {
   "cell_type": "code",
   "execution_count": 32,
   "id": "e290c27c-6c5a-441c-a5b0-a4d93c4d13c6",
   "metadata": {},
   "outputs": [
    {
     "ename": "SyntaxError",
     "evalue": "invalid syntax (1797147052.py, line 1)",
     "output_type": "error",
     "traceback": [
      "\u001b[0;36m  Cell \u001b[0;32mIn[32], line 1\u001b[0;36m\u001b[0m\n\u001b[0;31m    Preproccesing, The code begins by inspecting the datasets structure and contents using meta_data.columns to list column names, meta_data.head to preview the first few rows, and meta_data.describe to generate summary statistics. Missing values are checked with meta_data.isnull().sum(), and forward fill (ffill) is applied to handle them.\u001b[0m\n\u001b[0m                       ^\u001b[0m\n\u001b[0;31mSyntaxError\u001b[0m\u001b[0;31m:\u001b[0m invalid syntax\n"
     ]
    }
   ],
   "source": [
    "Preproccesing, The code begins by inspecting the datasets structure and contents using meta_data.columns to list column names, meta_data.head to preview the first few rows, and meta_data.describe to generate summary statistics. Missing values are checked with meta_data.isnull().sum(), and forward fill (ffill) is applied to handle them. \n",
    "All numeric columns are ensured to be properly typed using apply(pd.to_numeric, errors='coerce')."
   ]
  },
  {
   "cell_type": "code",
   "execution_count": 33,
   "id": "cf001988-665e-4da7-a445-d61fd3834e26",
   "metadata": {},
   "outputs": [
    {
     "data": {
      "text/plain": [
       "Index(['Open', 'High', 'Low', 'Close', 'Adj Close', 'Volume'], dtype='object')"
      ]
     },
     "execution_count": 33,
     "metadata": {},
     "output_type": "execute_result"
    }
   ],
   "source": [
    "meta_data.columns"
   ]
  },
  {
   "cell_type": "code",
   "execution_count": 34,
   "id": "5db144ef-06aa-4e2c-b70c-6fb7fe195f50",
   "metadata": {},
   "outputs": [
    {
     "data": {
      "text/plain": [
       "<bound method NDFrame.head of                   Open        High         Low       Close   Adj Close  \\\n",
       "Date                                                                     \n",
       "2018-01-03  181.880005  184.779999  181.330002  184.669998  184.669998   \n",
       "2018-01-04  184.899994  186.210007  184.100006  184.330002  184.330002   \n",
       "2018-01-05  185.589996  186.899994  184.929993  186.850006  186.850006   \n",
       "2018-01-08  187.199997  188.899994  186.330002  188.279999  188.279999   \n",
       "2018-01-09  188.699997  188.800003  187.100006  187.869995  187.869995   \n",
       "...                ...         ...         ...         ...         ...   \n",
       "2023-12-26  354.989990  356.980011  353.450012  354.829987  354.829987   \n",
       "2023-12-27  356.070007  359.000000  355.309998  357.829987  357.829987   \n",
       "2023-12-28  359.700012  361.899994  357.809998  358.320007  358.320007   \n",
       "2023-12-29  358.989990  360.000000  351.820007  353.959991  353.959991   \n",
       "2024-01-02  351.320007  353.160004  340.010010  346.290009  346.290009   \n",
       "\n",
       "              Volume  \n",
       "Date                  \n",
       "2018-01-03  16886600  \n",
       "2018-01-04  13880900  \n",
       "2018-01-05  13574500  \n",
       "2018-01-08  17994700  \n",
       "2018-01-09  12393100  \n",
       "...              ...  \n",
       "2023-12-26   9898600  \n",
       "2023-12-27  13207900  \n",
       "2023-12-28  11798800  \n",
       "2023-12-29  14980500  \n",
       "2024-01-02  19021900  \n",
       "\n",
       "[1509 rows x 6 columns]>"
      ]
     },
     "execution_count": 34,
     "metadata": {},
     "output_type": "execute_result"
    }
   ],
   "source": [
    "meta_data.head"
   ]
  },
  {
   "cell_type": "code",
   "execution_count": 35,
   "id": "6baba608-8f6e-4e83-bbcc-16c7a63fa7a9",
   "metadata": {},
   "outputs": [
    {
     "data": {
      "text/html": [
       "<div>\n",
       "<style scoped>\n",
       "    .dataframe tbody tr th:only-of-type {\n",
       "        vertical-align: middle;\n",
       "    }\n",
       "\n",
       "    .dataframe tbody tr th {\n",
       "        vertical-align: top;\n",
       "    }\n",
       "\n",
       "    .dataframe thead th {\n",
       "        text-align: right;\n",
       "    }\n",
       "</style>\n",
       "<table border=\"1\" class=\"dataframe\">\n",
       "  <thead>\n",
       "    <tr style=\"text-align: right;\">\n",
       "      <th></th>\n",
       "      <th>Open</th>\n",
       "      <th>High</th>\n",
       "      <th>Low</th>\n",
       "      <th>Close</th>\n",
       "      <th>Adj Close</th>\n",
       "      <th>Volume</th>\n",
       "    </tr>\n",
       "  </thead>\n",
       "  <tbody>\n",
       "    <tr>\n",
       "      <th>count</th>\n",
       "      <td>1509.000000</td>\n",
       "      <td>1509.000000</td>\n",
       "      <td>1509.000000</td>\n",
       "      <td>1509.000000</td>\n",
       "      <td>1509.000000</td>\n",
       "      <td>1.509000e+03</td>\n",
       "    </tr>\n",
       "    <tr>\n",
       "      <th>mean</th>\n",
       "      <td>225.073857</td>\n",
       "      <td>228.245838</td>\n",
       "      <td>222.095328</td>\n",
       "      <td>225.212200</td>\n",
       "      <td>225.212200</td>\n",
       "      <td>2.414811e+07</td>\n",
       "    </tr>\n",
       "    <tr>\n",
       "      <th>std</th>\n",
       "      <td>68.302017</td>\n",
       "      <td>68.897817</td>\n",
       "      <td>67.640720</td>\n",
       "      <td>68.291138</td>\n",
       "      <td>68.291138</td>\n",
       "      <td>1.628735e+07</td>\n",
       "    </tr>\n",
       "    <tr>\n",
       "      <th>min</th>\n",
       "      <td>90.080002</td>\n",
       "      <td>90.459999</td>\n",
       "      <td>88.089996</td>\n",
       "      <td>88.910004</td>\n",
       "      <td>88.910004</td>\n",
       "      <td>5.467500e+06</td>\n",
       "    </tr>\n",
       "    <tr>\n",
       "      <th>25%</th>\n",
       "      <td>174.500000</td>\n",
       "      <td>176.899994</td>\n",
       "      <td>172.039993</td>\n",
       "      <td>174.600006</td>\n",
       "      <td>174.600006</td>\n",
       "      <td>1.539570e+07</td>\n",
       "    </tr>\n",
       "    <tr>\n",
       "      <th>50%</th>\n",
       "      <td>202.179993</td>\n",
       "      <td>204.910004</td>\n",
       "      <td>199.669998</td>\n",
       "      <td>202.259995</td>\n",
       "      <td>202.259995</td>\n",
       "      <td>2.008990e+07</td>\n",
       "    </tr>\n",
       "    <tr>\n",
       "      <th>75%</th>\n",
       "      <td>279.190002</td>\n",
       "      <td>285.239990</td>\n",
       "      <td>276.309998</td>\n",
       "      <td>281.000000</td>\n",
       "      <td>281.000000</td>\n",
       "      <td>2.788780e+07</td>\n",
       "    </tr>\n",
       "    <tr>\n",
       "      <th>max</th>\n",
       "      <td>381.679993</td>\n",
       "      <td>384.329987</td>\n",
       "      <td>378.809998</td>\n",
       "      <td>382.179993</td>\n",
       "      <td>382.179993</td>\n",
       "      <td>2.323166e+08</td>\n",
       "    </tr>\n",
       "  </tbody>\n",
       "</table>\n",
       "</div>"
      ],
      "text/plain": [
       "              Open         High          Low        Close    Adj Close  \\\n",
       "count  1509.000000  1509.000000  1509.000000  1509.000000  1509.000000   \n",
       "mean    225.073857   228.245838   222.095328   225.212200   225.212200   \n",
       "std      68.302017    68.897817    67.640720    68.291138    68.291138   \n",
       "min      90.080002    90.459999    88.089996    88.910004    88.910004   \n",
       "25%     174.500000   176.899994   172.039993   174.600006   174.600006   \n",
       "50%     202.179993   204.910004   199.669998   202.259995   202.259995   \n",
       "75%     279.190002   285.239990   276.309998   281.000000   281.000000   \n",
       "max     381.679993   384.329987   378.809998   382.179993   382.179993   \n",
       "\n",
       "             Volume  \n",
       "count  1.509000e+03  \n",
       "mean   2.414811e+07  \n",
       "std    1.628735e+07  \n",
       "min    5.467500e+06  \n",
       "25%    1.539570e+07  \n",
       "50%    2.008990e+07  \n",
       "75%    2.788780e+07  \n",
       "max    2.323166e+08  "
      ]
     },
     "execution_count": 35,
     "metadata": {},
     "output_type": "execute_result"
    }
   ],
   "source": [
    "meta_data.describe()"
   ]
  },
  {
   "cell_type": "code",
   "execution_count": 36,
   "id": "61c24a35-9a8d-412a-b72e-1b9c8850db22",
   "metadata": {},
   "outputs": [
    {
     "name": "stdout",
     "output_type": "stream",
     "text": [
      "Missing values per column:\n",
      " Open         0\n",
      "High         0\n",
      "Low          0\n",
      "Close        0\n",
      "Adj Close    0\n",
      "Volume       0\n",
      "dtype: int64\n"
     ]
    }
   ],
   "source": [
    "# Check for missing values\n",
    "missing_values = meta_data.isnull().sum()\n",
    "print(\"Missing values per column:\\n\", missing_values)\n",
    "\n",
    "# Handle missing values (example: forward fill)\n",
    "meta_data.fillna(method='ffill', inplace=True)"
   ]
  },
  {
   "cell_type": "code",
   "execution_count": 37,
   "id": "7ea131fa-d9cc-4817-b0b8-3e537f5d3bba",
   "metadata": {},
   "outputs": [],
   "source": [
    "# Ensure all numeric columns are properly typed\n",
    "meta_data = meta_data.apply(pd.to_numeric, errors='coerce')\n",
    "\n",
    "# Confirm the index is datetime\n",
    "meta_data.index = pd.to_datetime(meta_data.index)"
   ]
  },
  {
   "cell_type": "code",
   "execution_count": 38,
   "id": "cb66066a-b91b-4e40-bc87-781f698b5208",
   "metadata": {},
   "outputs": [],
   "source": [
    "meta_data['Daily_Range'] = meta_data['High'] - meta_data['Low']\n",
    "meta_data['Price_Change_%'] = ((meta_data['Close'] - meta_data['Open']) / meta_data['Open']) * 100"
   ]
  },
  {
   "cell_type": "code",
   "execution_count": 39,
   "id": "0ff59ac3-5376-413b-a126-3028c4dec5da",
   "metadata": {},
   "outputs": [],
   "source": [
    "from sklearn.preprocessing import MinMaxScaler\n",
    "\n",
    "scaler = MinMaxScaler()\n",
    "meta_data[['Open', 'High', 'Low', 'Close', 'Adj Close', 'Volume']] = scaler.fit_transform(\n",
    "    meta_data[['Open', 'High', 'Low', 'Close', 'Adj Close', 'Volume']]\n",
    ")"
   ]
  },
  {
   "cell_type": "code",
   "execution_count": 40,
   "id": "2fa8606b-2ff8-416f-93e5-c4b9cd71b202",
   "metadata": {},
   "outputs": [
    {
     "ename": "SyntaxError",
     "evalue": "invalid syntax (1069806596.py, line 1)",
     "output_type": "error",
     "traceback": [
      "\u001b[0;36m  Cell \u001b[0;32mIn[40], line 1\u001b[0;36m\u001b[0m\n\u001b[0;31m    A histogram of daily percentage changes is plotted to show the distribution of price fluctuations,\u001b[0m\n\u001b[0m      ^\u001b[0m\n\u001b[0;31mSyntaxError\u001b[0m\u001b[0;31m:\u001b[0m invalid syntax\n"
     ]
    }
   ],
   "source": [
    "A histogram of daily percentage changes is plotted to show the distribution of price fluctuations, \n",
    "helping identify patterns or outliers in price behavior. This preprocessing ensures the data is clean, \n",
    "consistent, and ready for analysis or modeling."
   ]
  },
  {
   "cell_type": "code",
   "execution_count": null,
   "id": "f9470bd0-cfdb-408f-8579-37e8e6ed6627",
   "metadata": {},
   "outputs": [],
   "source": [
    "# Plot closing price over time\n",
    "plt.figure(figsize=(12, 6))\n",
    "plt.plot(meta_data.index, meta_data['Close'], label='Closing Price')\n",
    "plt.title('META Stock Closing Prices Over Time')\n",
    "plt.xlabel('Date')\n",
    "plt.ylabel('Price (Normalized)')\n",
    "plt.legend()\n",
    "plt.show()\n",
    "\n",
    "# Histogram of daily price changes\n",
    "plt.figure(figsize=(8, 5))\n",
    "plt.hist(meta_data['Price_Change_%'], bins=50, color='blue', alpha=0.7)\n",
    "plt.title('Distribution of Daily Price Changes (%)')\n",
    "plt.xlabel('Percentage Change')\n",
    "plt.ylabel('Frequency')\n",
    "plt.show()\n"
   ]
  },
  {
   "cell_type": "code",
   "execution_count": 42,
   "id": "6539bce9-e345-483c-aab7-8fd87f74520e",
   "metadata": {},
   "outputs": [
    {
     "ename": "SyntaxError",
     "evalue": "invalid syntax (4184182735.py, line 1)",
     "output_type": "error",
     "traceback": [
      "\u001b[0;36m  Cell \u001b[0;32mIn[42], line 1\u001b[0;36m\u001b[0m\n\u001b[0;31m    The code focuses on analyzing and visualizing the impact of the Meta transition announcement on October 28, 2021.\u001b[0m\n\u001b[0m        ^\u001b[0m\n\u001b[0;31mSyntaxError\u001b[0m\u001b[0;31m:\u001b[0m invalid syntax\n"
     ]
    }
   ],
   "source": [
    "The code focuses on analyzing and visualizing the impact of the Meta transition announcement on October 28, 2021. \n",
    "It first defines the event date and sets a 10-day window before and after the event for analysis. \n",
    "The dataset is filtered to include only data within this window, enabling a focused examination of stock behavior. \n",
    "A dual-axis plot is created to visualize the normalized closing prices and trading volumes during this period. \n",
    "The closing prices are plotted as a blue line on the primary y-axis, while trading volumes are represented as gray bars on a secondary y-axis. \n",
    "A vertical red dashed line marks the event date to highlight its significance. Labels, a title, and a legend are added for clarity, providing insights into how stock prices and trading volumes behaved in the days surrounding the announcement."
   ]
  },
  {
   "cell_type": "code",
   "execution_count": null,
   "id": "27d02a36-1b1c-456d-8fe4-421ada9aef6f",
   "metadata": {},
   "outputs": [],
   "source": [
    "# Define the event date and the analysis window\n",
    "event_date = '2021-10-28'\n",
    "pre_event_window = 10  # Days before the event\n",
    "post_event_window = 10  # Days after the event\n",
    "\n",
    "# Filter data for 10 days before and after the event\n",
    "event_data = meta_data.loc[\n",
    "    (meta_data.index >= pd.to_datetime(event_date) - pd.Timedelta(days=pre_event_window)) &\n",
    "    (meta_data.index <= pd.to_datetime(event_date) + pd.Timedelta(days=post_event_window))\n",
    "]\n",
    "\n",
    "# Plot the normalized closing price and volume\n",
    "fig, ax1 = plt.subplots(figsize=(12, 6))\n",
    "\n",
    "# Stock price (normalized)\n",
    "ax1.plot(event_data.index, event_data['Close'], color='blue', label='Normalized Closing Price')\n",
    "ax1.set_xlabel('Date')\n",
    "ax1.set_ylabel('Normalized Closing Price', color='blue')\n",
    "ax1.axvline(pd.to_datetime(event_date), color='red', linestyle='--', label='Meta Transition Announcement')\n",
    "ax1.tick_params(axis='y', labelcolor='blue')\n",
    "\n",
    "# Volume (normalized, secondary y-axis)\n",
    "ax2 = ax1.twinx()\n",
    "ax2.bar(event_data.index, event_data['Volume'], color='gray', alpha=0.3, label='Normalized Volume')\n",
    "ax2.set_ylabel('Normalized Volume', color='gray')\n",
    "ax2.tick_params(axis='y', labelcolor='gray')\n",
    "\n",
    "# Title and layout\n",
    "fig.tight_layout()\n",
    "plt.title('META Stock Price and Volume Around Transition to Meta (Oct 28, 2021)')\n",
    "fig.legend(loc=\"upper left\", bbox_to_anchor=(0.1, 0.85))\n",
    "plt.show()\n"
   ]
  },
  {
   "cell_type": "code",
   "execution_count": 44,
   "id": "6730e08e-c3ff-4cbb-9bba-480becc167df",
   "metadata": {},
   "outputs": [],
   "source": [
    "# Function to calculate annualized return and risk (standard deviation)\n",
    "def calculate_risk_return(data):\n",
    "    # Create a copy of the data\n",
    "    data = data.copy()\n",
    "\n",
    "    # Calculate daily returns\n",
    "    data['Daily_Return'] = data['Close'].pct_change()\n",
    "\n",
    "    # Drop NaN values in daily returns\n",
    "    data = data.dropna(subset=['Daily_Return'])\n",
    "\n",
    "    # Calculate average daily return\n",
    "    avg_daily_return = data['Daily_Return'].mean()\n",
    "\n",
    "    # Annualized return (assuming 252 trading days per year)\n",
    "    annualized_return = (1 + avg_daily_return) ** 252 - 1\n",
    "\n",
    "    # Annualized risk (standard deviation)\n",
    "    daily_std_dev = data['Daily_Return'].std()\n",
    "    annualized_risk = daily_std_dev * np.sqrt(252)\n",
    "\n",
    "    return annualized_return, annualized_risk"
   ]
  },
  {
   "cell_type": "code",
   "execution_count": 45,
   "id": "b7690509-8f0c-4b85-9bf3-ee12cba2a3fd",
   "metadata": {},
   "outputs": [],
   "source": [
    "# Load the dataset (replace 'META.csv' with your dataset path)\n",
    "meta_data = pd.read_csv(\"META.csv\")\n",
    "meta_data['Date'] = pd.to_datetime(meta_data['Date'])\n",
    "meta_data.set_index('Date', inplace=True)\n",
    "\n",
    "# Filter the data for the period after October 28, 2021\n",
    "post_event_data = meta_data[meta_data.index >= pd.to_datetime('2021-10-28')]\n",
    "\n",
    "# Function to calculate annualized risk (standard deviation)\n",
    "def calculate_risk(data):\n",
    "    # Create a copy of the data\n",
    "    data = data.copy()\n",
    "\n",
    "    # Calculate daily returns\n",
    "    data['Daily_Return'] = data['Close'].pct_change()\n",
    "\n",
    "    # Drop NaN values in daily returns\n",
    "    data = data.dropna(subset=['Daily_Return'])\n",
    "\n",
    "    # Check if there is enough data\n",
    "    if len(data) < 2:\n",
    "        return None  # Return None if insufficient data\n",
    "    \n",
    "    # Annualized risk (standard deviation)\n",
    "    daily_std_dev = data['Daily_Return'].std()\n",
    "    annualized_risk = daily_std_dev * np.sqrt(252)\n",
    "\n",
    "    return annualized_risk"
   ]
  },
  {
   "cell_type": "code",
   "execution_count": 46,
   "id": "81de3faa-1eff-4680-8e1d-1886e04782ef",
   "metadata": {},
   "outputs": [
    {
     "ename": "SyntaxError",
     "evalue": "invalid syntax (1072990759.py, line 1)",
     "output_type": "error",
     "traceback": [
      "\u001b[0;36m  Cell \u001b[0;32mIn[46], line 1\u001b[0;36m\u001b[0m\n\u001b[0;31m    This code performs a comprehensive analysis of the annualized return and risk (standard deviation) of META stock, segmented into overall, bull market, and bear market periods. The calculate_risk_return function computes daily returns, annualized return, and annualized risk using the dataset, assuming 252 trading days per year.\u001b[0m\n\u001b[0m         ^\u001b[0m\n\u001b[0;31mSyntaxError\u001b[0m\u001b[0;31m:\u001b[0m invalid syntax\n"
     ]
    }
   ],
   "source": [
    "This code performs a comprehensive analysis of the annualized return and risk (standard deviation) of META stock, segmented into overall, bull market, and bear market periods. The calculate_risk_return function computes daily returns, annualized return, and annualized risk using the dataset, assuming 252 trading days per year. \n",
    "For enhanced precision, a separate calculate_risk function calculates risk alone by deriving the standard deviation of daily returns.\n",
    "The dataset is preprocessed by converting dates to a datetime format and setting them as the index. Post-event data is filtered for a period after October 28, 2021, and the overall dataset is analyzed for annualized return and risk. \n",
    "Bull and bear markets are defined based on whether the closing price is above or below the 50-day moving average. The respective annualized returns and risks are calculated for these conditions.\n",
    "The results, including annualized return and risk for the overall period, bull market, and bear market, are printed. \n",
    "A bar chart visually compares these metrics, with green bars representing returns and red bars showing risks. This visualization highlights the performance and variability of META stock under different market conditions, providing insights into its risk-return profile."
   ]
  },
  {
   "cell_type": "code",
   "execution_count": 47,
   "id": "aa07c336-9c25-4a46-b624-634037e6d771",
   "metadata": {},
   "outputs": [
    {
     "name": "stdout",
     "output_type": "stream",
     "text": [
      "Overall Period:\n",
      "  Annualized Return: 21.93%\n",
      "  Annualized Risk (Standard Deviation): 42.77%\n",
      "\n",
      "Bull Market:\n",
      "  Annualized Return: 35.92%\n",
      "  Annualized Risk (Standard Deviation): 45.96%\n",
      "\n",
      "Bear Market:\n",
      "  Annualized Return: 97.89%\n",
      "  Annualized Risk (Standard Deviation): 117.19%\n",
      "\n"
     ]
    },
    {
     "data": {
      "image/png": "[encoded data removed]",
      "text/plain": [
       "<Figure size 1200x600 with 1 Axes>"
      ]
     },
     "metadata": {},
     "output_type": "display_data"
    }
   ],
   "source": [
    "# Load the dataset (replace 'META.csv' with the correct path)\n",
    "meta_data = pd.read_csv(\"META.csv\")\n",
    "meta_data['Date'] = pd.to_datetime(meta_data['Date'])\n",
    "meta_data.set_index('Date', inplace=True)\n",
    "\n",
    "# Calculate risk and return for the entire period\n",
    "annualized_return, annualized_risk = calculate_risk_return(meta_data)\n",
    "\n",
    "# Bull and Bear Markets\n",
    "bull_market = meta_data[meta_data['Close'] > meta_data['Close'].rolling(window=50).mean()]\n",
    "bear_market = meta_data[meta_data['Close'] <= meta_data['Close'].rolling(window=50).mean()]\n",
    "\n",
    "# Calculate risk and return for bull and bear markets\n",
    "bull_return, bull_risk = calculate_risk_return(bull_market)\n",
    "bear_return, bear_risk = calculate_risk_return(bear_market)\n",
    "\n",
    "# Print results\n",
    "print(f\"Overall Period:\")\n",
    "print(f\"  Annualized Return: {annualized_return:.2%}\")\n",
    "print(f\"  Annualized Risk (Standard Deviation): {annualized_risk:.2%}\\n\")\n",
    "\n",
    "print(f\"Bull Market:\")\n",
    "print(f\"  Annualized Return: {bull_return:.2%}\")\n",
    "print(f\"  Annualized Risk (Standard Deviation): {bull_risk:.2%}\\n\")\n",
    "\n",
    "print(f\"Bear Market:\")\n",
    "print(f\"  Annualized Return: {bear_return:.2%}\")\n",
    "print(f\"  Annualized Risk (Standard Deviation): {bear_risk:.2%}\\n\")\n",
    "\n",
    "# Visualization\n",
    "plt.figure(figsize=(12, 6))\n",
    "\n",
    "# Plot overall period returns and risks\n",
    "categories = ['Overall', 'Bull Market', 'Bear Market']\n",
    "returns = [annualized_return, bull_return, bear_return]\n",
    "risks = [annualized_risk, bull_risk, bear_risk]\n",
    "\n",
    "plt.bar(categories, returns, color='green', alpha=0.7, label='Annualized Return')\n",
    "plt.bar(categories, risks, color='red', alpha=0.5, label='Annualized Risk')\n",
    "\n",
    "plt.title('META Risk-Return Profile: Overall, Bull, and Bear Markets')\n",
    "plt.ylabel('Percentage')\n",
    "plt.legend()\n",
    "plt.show()"
   ]
  },
  {
   "cell_type": "code",
   "execution_count": 48,
   "id": "92de3547-faba-4a72-8d46-9adc7c5692bf",
   "metadata": {},
   "outputs": [
    {
     "name": "stdout",
     "output_type": "stream",
     "text": [
      "Post-Event Risk (Annualized Standard Deviation): 52.28%\n"
     ]
    }
   ],
   "source": [
    "# Calculate risk for post-event period\n",
    "post_event_risk = calculate_risk(post_event_data)\n",
    "\n",
    "# Print post-event risk\n",
    "if post_event_risk is not None:\n",
    "    print(f\"Post-Event Risk (Annualized Standard Deviation): {post_event_risk:.2%}\")\n",
    "else:\n",
    "    print(\"Not enough data to calculate post-event risk.\")"
   ]
  },
  {
   "cell_type": "code",
   "execution_count": 49,
   "id": "06f568b1-c1bb-4d37-bc8e-5513489c6893",
   "metadata": {},
   "outputs": [
    {
     "ename": "SyntaxError",
     "evalue": "unterminated string literal (detected at line 4) (1464794427.py, line 4)",
     "output_type": "error",
     "traceback": [
      "\u001b[0;36m  Cell \u001b[0;32mIn[49], line 4\u001b[0;36m\u001b[0m\n\u001b[0;31m    A linear regression model is trained on the scaled training data. Predictions are made on the test set, and the model's performance is evaluated using metrics such as Mean Squared Error (MSE) and the R² score. The results are printed to assess the accuracy and explanatory power of the model.\u001b[0m\n\u001b[0m                                                                                                                         ^\u001b[0m\n\u001b[0;31mSyntaxError\u001b[0m\u001b[0;31m:\u001b[0m unterminated string literal (detected at line 4)\n"
     ]
    }
   ],
   "source": [
    "This code implements a machine learning approach using linear regression to predict META stocks closing prices based on lag features. The dataset is first loaded and prepared by converting dates into datetime format and setting them as the index. Lag features (Lag_1 and Lag_2), representing the previous days and two days before closing prices, are created to serve as predictors for the target variable, Close. \n",
    "Rows with missing values, resulting from the lag feature creation, are dropped to ensure a clean dataset.\n",
    "The features (Lag_1, Lag_2) are standardized using StandardScaler to normalize their values, improving the regression models performance. The dataset is then split into training and testing sets, with 80% of the data used for training and 20% for testing, ensuring that the data is not shuffled to preserve the time-series nature.\n",
    "A linear regression model is trained on the scaled training data. Predictions are made on the test set, and the model's performance is evaluated using metrics such as Mean Squared Error (MSE) and the R² score. The results are printed to assess the accuracy and explanatory power of the model.\n",
    "Finally, a visualization is created to compare the actual and predicted closing prices over the test period. The green line represents the actual closing prices, while the red dashed line shows the model's predictions, providing a clear visual indication of how well the linear regression model performs in predicting stock prices based on lagged features."
   ]
  },
  {
   "cell_type": "code",
   "execution_count": null,
   "id": "6157f7ec-5e28-47a1-b276-135e843b33fd",
   "metadata": {},
   "outputs": [],
   "source": [
    "import pandas as pd\n",
    "import numpy as np\n",
    "import matplotlib.pyplot as plt\n",
    "from sklearn.model_selection import train_test_split\n",
    "from sklearn.linear_model import LinearRegression\n",
    "from sklearn.metrics import mean_squared_error, r2_score\n",
    "from sklearn.preprocessing import StandardScaler\n",
    "\n",
    "# Load the dataset\n",
    "meta_data = pd.read_csv(\"META.csv\")  # Replace with your dataset path\n",
    "meta_data['Date'] = pd.to_datetime(meta_data['Date'])\n",
    "meta_data.set_index('Date', inplace=True)\n",
    "\n",
    "# Use closing prices as the target variable\n",
    "closing_prices = meta_data['Close']\n",
    "\n",
    "# Create lag features\n",
    "meta_data['Lag_1'] = meta_data['Close'].shift(1)  # Previous day's price\n",
    "meta_data['Lag_2'] = meta_data['Close'].shift(2)  # Two days before\n",
    "meta_data = meta_data.dropna()  # Drop rows with NaN values due to shifting\n",
    "\n",
    "# Define features (lags) and target\n",
    "X = meta_data[['Lag_1', 'Lag_2']]\n",
    "y = meta_data['Close']\n",
    "\n",
    "# Standardize the features\n",
    "scaler = StandardScaler()\n",
    "X_scaled = scaler.fit_transform(X)\n",
    "\n",
    "# Train-test split\n",
    "X_train, X_test, y_train, y_test = train_test_split(X_scaled, y, test_size=0.2, random_state=42, shuffle=False)\n",
    "\n",
    "# Fit the Linear Regression model\n",
    "model = LinearRegression()\n",
    "model.fit(X_train, y_train)\n",
    "\n",
    "# Predict on the test set\n",
    "y_pred = model.predict(X_test)\n",
    "\n",
    "# Evaluate the model\n",
    "mse = mean_squared_error(y_test, y_pred)\n",
    "r2 = r2_score(y_test, y_pred)\n",
    "print(f\"Mean Squared Error: {mse:.2f}\")\n",
    "print(f\"R^2 Score: {r2:.2f}\")\n",
    "\n",
    "# Plot actual vs predicted prices\n",
    "plt.figure(figsize=(12, 6))\n",
    "plt.plot(y_test.index, y_test, label='Actual Prices', color='green')\n",
    "plt.plot(y_test.index, y_pred, label='Predicted Prices', color='red', linestyle='--')\n",
    "plt.title('META Stock Price Prediction (Linear Regression)')\n",
    "plt.xlabel('Date')\n",
    "plt.ylabel('Closing Price')\n",
    "plt.legend()\n",
    "plt.show()"
   ]
  },
  {
   "cell_type": "code",
   "execution_count": 51,
   "id": "0fc00ce8-7cd2-40ca-b3b6-08d7fa30980d",
   "metadata": {},
   "outputs": [
    {
     "name": "stdout",
     "output_type": "stream",
     "text": [
      "Mean Squared Error: 32.60\n",
      "Relative MSE (MSE as a percentage of mean target value): 13.77%\n",
      "R² Score: 0.99\n",
      "Good model performance, The model explains most of the variance.\n"
     ]
    }
   ],
   "source": [
    "# Analyze MSE\n",
    "print(f\"Mean Squared Error: {mse:.2f}\")\n",
    "mse_relative = mse / y_test.mean()\n",
    "print(f\"Relative MSE (MSE as a percentage of mean target value): {mse_relative:.2%}\")\n",
    "\n",
    "# Analyze R² Score\n",
    "print(f\"R² Score: {r2:.2f}\")\n",
    "\n",
    "# Interpretation\n",
    "if r2 > 0.8:\n",
    "    print(\"Good model performance, The model explains most of the variance.\")\n",
    "elif r2 > 0.5:\n",
    "    print(\"Moderate performance. Consider adding more features to improve accuracy.\")\n",
    "else:\n",
    "    print(\"Low performance. The model may not be capturing important predictors.\")"
   ]
  },
  {
   "cell_type": "code",
   "execution_count": 52,
   "id": "5945681c-ca50-4b60-a1c6-bb08b746871d",
   "metadata": {},
   "outputs": [
    {
     "ename": "SyntaxError",
     "evalue": "invalid syntax (1157156420.py, line 1)",
     "output_type": "error",
     "traceback": [
      "\u001b[0;36m  Cell \u001b[0;32mIn[52], line 1\u001b[0;36m\u001b[0m\n\u001b[0;31m    This code integrates the META.csv dataset into an SQLite database to enable efficient data storage and querying. The dataset is first loaded using pandas, and the Date column is converted to a datetime format for consistency. An SQLite connection is established to create or connect to a database named meta_stock.db.\u001b[0m\n\u001b[0m         ^\u001b[0m\n\u001b[0;31mSyntaxError\u001b[0m\u001b[0;31m:\u001b[0m invalid syntax\n"
     ]
    }
   ],
   "source": [
    "This code integrates the META.csv dataset into an SQLite database to enable efficient data storage and querying. The dataset is first loaded using pandas, and the Date column is converted to a datetime format for consistency. An SQLite connection is established to create or connect to a database named meta_stock.db. \n",
    "A table named meta_stock is defined with columns for each attribute in the dataset, including Date, Open, High, Low, Close, Adj_Close, and Volume. \n",
    "The id column is set as the primary key, which auto-increments to uniquely identify each row. Using a loop, each row in the pandas DataFrame is iterated over and inserted into the SQLite table. The INSERT INTO query is used, with the Date column formatted as YYYY-MM-DD to ensure proper storage as a text type. \n",
    "After inserting all rows, the transaction is committed to save the data persistently in the database."
   ]
  },
  {
   "cell_type": "code",
   "execution_count": 53,
   "id": "06849444-5b5c-4263-a0f0-16d590eaa512",
   "metadata": {},
   "outputs": [],
   "source": [
    "import sqlite3\n",
    "import pandas as pd\n",
    "\n",
    "# Load the dataset (replace 'META.csv' with your dataset path)\n",
    "meta_data = pd.read_csv(\"META.csv\")\n",
    "meta_data['Date'] = pd.to_datetime(meta_data['Date'])\n",
    "\n",
    "# Establish SQLite connection\n",
    "conn = sqlite3.connect('meta_stock.db')  # Create or connect to 'meta_stock.db'\n",
    "cursor = conn.cursor()\n"
   ]
  },
  {
   "cell_type": "code",
   "execution_count": 54,
   "id": "ce49636b-d2d3-417c-a492-3d77d0eec268",
   "metadata": {},
   "outputs": [],
   "source": [
    "# Create a table for META stock data\n",
    "create_table_sql = '''\n",
    "CREATE TABLE IF NOT EXISTS meta_stock (\n",
    "    id INTEGER PRIMARY KEY AUTOINCREMENT,\n",
    "    Date TEXT NOT NULL,\n",
    "    Open REAL NOT NULL,\n",
    "    High REAL NOT NULL,\n",
    "    Low REAL NOT NULL,\n",
    "    Close REAL NOT NULL,\n",
    "    Adj_Close REAL NOT NULL,\n",
    "    Volume INTEGER NOT NULL\n",
    ");\n",
    "'''\n",
    "cursor.execute(create_table_sql)\n",
    "conn.commit()"
   ]
  },
  {
   "cell_type": "code",
   "execution_count": 55,
   "id": "54c16ad6-798c-4ed4-9daa-bcaff758adab",
   "metadata": {},
   "outputs": [],
   "source": [
    "# Insert data into the table\n",
    "for index, row in meta_data.iterrows():\n",
    "    cursor.execute('''\n",
    "        INSERT INTO meta_stock (Date, Open, High, Low, Close, Adj_Close, Volume)\n",
    "        VALUES (?, ?, ?, ?, ?, ?, ?)\n",
    "    ''', (\n",
    "        row['Date'].strftime('%Y-%m-%d'),\n",
    "        row['Open'],\n",
    "        row['High'],\n",
    "        row['Low'],\n",
    "        row['Close'],\n",
    "        row['Adj Close'],\n",
    "        row['Volume']\n",
    "    ))\n",
    "\n",
    "# Commit the transaction\n",
    "conn.commit()"
   ]
  },
  {
   "cell_type": "code",
   "execution_count": 56,
   "id": "7aabb627-2e80-4b10-8116-c13964c89597",
   "metadata": {},
   "outputs": [
    {
     "name": "stdout",
     "output_type": "stream",
     "text": [
      "(1, '2018-01-03', 181.880005, 184.779999, 181.330002, 184.669998, 184.669998, 16886600)\n",
      "(2, '2018-01-04', 184.899994, 186.210007, 184.100006, 184.330002, 184.330002, 13880900)\n",
      "(3, '2018-01-05', 185.589996, 186.899994, 184.929993, 186.850006, 186.850006, 13574500)\n",
      "(4, '2018-01-08', 187.199997, 188.899994, 186.330002, 188.279999, 188.279999, 17994700)\n",
      "(5, '2018-01-09', 188.699997, 188.800003, 187.100006, 187.869995, 187.869995, 12393100)\n"
     ]
    }
   ],
   "source": [
    "# Test query to ensure the data is in the database\n",
    "cursor.execute(\"SELECT * FROM meta_stock LIMIT 5;\")\n",
    "rows = cursor.fetchall()\n",
    "\n",
    "# Display the fetched rows\n",
    "if rows:\n",
    "    for row in rows:\n",
    "        print(row)\n",
    "else:\n",
    "    print(\"No data found in the table.\")\n"
   ]
  },
  {
   "cell_type": "code",
   "execution_count": 57,
   "id": "ea2b1b90-dcd3-4b2b-8e63-d59d09a12239",
   "metadata": {},
   "outputs": [
    {
     "name": "stdout",
     "output_type": "stream",
     "text": [
      "Average Closing Price: 225.21\n"
     ]
    }
   ],
   "source": [
    "cursor.execute(\"SELECT AVG(Close) AS Average_Close FROM meta_stock;\")\n",
    "avg_close = cursor.fetchone()[0]\n",
    "print(f\"Average Closing Price: {avg_close:.2f}\")"
   ]
  },
  {
   "cell_type": "code",
   "execution_count": 58,
   "id": "ee4b177d-fc7f-4866-a88d-64bd8d17e40b",
   "metadata": {},
   "outputs": [
    {
     "name": "stdout",
     "output_type": "stream",
     "text": [
      "Highest Closing Price: 382.18 on 2021-09-07\n"
     ]
    }
   ],
   "source": [
    "cursor.execute(\"SELECT Date, Close FROM meta_stock ORDER BY Close DESC LIMIT 1;\")\n",
    "highest_close = cursor.fetchone()\n",
    "print(f\"Highest Closing Price: {highest_close[1]:.2f} on {highest_close[0]}\")"
   ]
  },
  {
   "cell_type": "code",
   "execution_count": 59,
   "id": "055544e8-e66c-4fdb-a1a5-9fafc79e247c",
   "metadata": {},
   "outputs": [
    {
     "name": "stdout",
     "output_type": "stream",
     "text": [
      "Monthly Average Closing Prices:\n",
      "2018-01: 185.14\n",
      "2018-02: 180.27\n",
      "2018-03: 173.49\n",
      "2018-04: 163.81\n",
      "2018-05: 182.93\n",
      "2018-06: 195.27\n",
      "2018-07: 199.97\n",
      "2018-08: 177.49\n",
      "2018-09: 164.38\n",
      "2018-10: 154.19\n",
      "2018-11: 141.64\n",
      "2018-12: 137.16\n",
      "2019-01: 145.42\n",
      "2019-02: 164.81\n",
      "2019-03: 167.41\n",
      "2019-04: 180.54\n",
      "2019-05: 186.08\n",
      "2019-06: 181.27\n",
      "2019-07: 199.60\n",
      "2019-08: 184.50\n",
      "2019-09: 185.74\n",
      "2019-10: 184.38\n",
      "2019-11: 195.72\n",
      "2019-12: 201.95\n",
      "2020-01: 216.64\n",
      "2020-02: 207.51\n",
      "2020-03: 165.75\n",
      "2020-04: 177.00\n",
      "2020-05: 216.55\n",
      "2020-06: 232.05\n",
      "2020-07: 239.21\n",
      "2020-08: 268.79\n",
      "2020-09: 266.55\n",
      "2020-10: 269.78\n",
      "2020-11: 276.31\n",
      "2020-12: 276.53\n",
      "2021-01: 264.61\n",
      "2021-02: 266.34\n",
      "2021-03: 275.51\n",
      "2021-04: 307.75\n",
      "2021-05: 317.34\n",
      "2021-06: 336.43\n",
      "2021-07: 353.38\n",
      "2021-08: 363.02\n",
      "2021-09: 363.97\n",
      "2021-10: 328.67\n",
      "2021-11: 336.53\n",
      "2021-12: 330.85\n",
      "2022-01: 319.41\n",
      "2022-02: 228.44\n",
      "2022-03: 207.26\n",
      "2022-04: 208.24\n",
      "2022-05: 197.74\n",
      "2022-06: 173.50\n",
      "2022-07: 167.36\n",
      "2022-08: 168.56\n",
      "2022-09: 149.96\n",
      "2022-10: 127.92\n",
      "2022-11: 106.40\n",
      "2022-12: 117.96\n",
      "2023-01: 137.25\n",
      "2023-02: 176.48\n",
      "2023-03: 193.94\n",
      "2023-04: 217.20\n",
      "2023-05: 243.36\n",
      "2023-06: 277.06\n",
      "2023-07: 303.14\n",
      "2023-08: 299.86\n",
      "2023-09: 301.12\n",
      "2023-10: 310.87\n",
      "2023-11: 328.49\n",
      "2023-12: 338.95\n",
      "2024-01: 346.29\n"
     ]
    }
   ],
   "source": [
    "cursor.execute(\"\"\"\n",
    "    SELECT \n",
    "        strftime('%Y-%m', Date) AS Month, \n",
    "        AVG(Close) AS Avg_Close\n",
    "    FROM meta_stock\n",
    "    GROUP BY Month\n",
    "    ORDER BY Month;\n",
    "\"\"\")\n",
    "monthly_averages = cursor.fetchall()\n",
    "print(\"Monthly Average Closing Prices:\")\n",
    "for month, avg_close in monthly_averages:\n",
    "    print(f\"{month}: {avg_close:.2f}\")"
   ]
  },
  {
   "cell_type": "code",
   "execution_count": 60,
   "id": "8bf3b60f-bb88-4539-a85f-77af163bebdb",
   "metadata": {},
   "outputs": [
    {
     "name": "stdout",
     "output_type": "stream",
     "text": [
      "Days with Significant Price Recovery:\n",
      "Date: 2020-08-26, Open: 284.00, Close: 303.91, Recovery: 19.91\n",
      "Date: 2020-08-26, Open: 284.00, Close: 303.91, Recovery: 19.91\n",
      "Date: 2020-08-26, Open: 284.00, Close: 303.91, Recovery: 19.91\n",
      "Date: 2020-08-26, Open: 284.00, Close: 303.91, Recovery: 19.91\n",
      "Date: 2020-08-26, Open: 284.00, Close: 303.91, Recovery: 19.91\n",
      "Date: 2022-02-24, Open: 191.06, Close: 207.60, Recovery: 16.54\n",
      "Date: 2022-02-24, Open: 191.06, Close: 207.60, Recovery: 16.54\n",
      "Date: 2022-02-24, Open: 191.06, Close: 207.60, Recovery: 16.54\n",
      "Date: 2022-02-24, Open: 191.06, Close: 207.60, Recovery: 16.54\n",
      "Date: 2022-02-24, Open: 191.06, Close: 207.60, Recovery: 16.54\n",
      "Date: 2020-08-06, Open: 249.04, Close: 265.28, Recovery: 16.24\n",
      "Date: 2020-08-06, Open: 249.04, Close: 265.28, Recovery: 16.24\n",
      "Date: 2020-08-06, Open: 249.04, Close: 265.28, Recovery: 16.24\n",
      "Date: 2020-08-06, Open: 249.04, Close: 265.28, Recovery: 16.24\n",
      "Date: 2020-08-06, Open: 249.04, Close: 265.28, Recovery: 16.24\n",
      "Date: 2023-10-06, Open: 301.44, Close: 315.43, Recovery: 13.99\n",
      "Date: 2023-10-06, Open: 301.44, Close: 315.43, Recovery: 13.99\n",
      "Date: 2023-10-06, Open: 301.44, Close: 315.43, Recovery: 13.99\n",
      "Date: 2023-10-06, Open: 301.44, Close: 315.43, Recovery: 13.99\n",
      "Date: 2023-10-06, Open: 301.44, Close: 315.43, Recovery: 13.99\n",
      "Date: 2021-06-28, Open: 342.46, Close: 355.64, Recovery: 13.18\n",
      "Date: 2021-06-28, Open: 342.46, Close: 355.64, Recovery: 13.18\n",
      "Date: 2021-06-28, Open: 342.46, Close: 355.64, Recovery: 13.18\n",
      "Date: 2021-06-28, Open: 342.46, Close: 355.64, Recovery: 13.18\n",
      "Date: 2021-06-28, Open: 342.46, Close: 355.64, Recovery: 13.18\n",
      "Date: 2022-05-04, Open: 210.65, Close: 223.41, Recovery: 12.76\n",
      "Date: 2022-05-04, Open: 210.65, Close: 223.41, Recovery: 12.76\n",
      "Date: 2022-05-04, Open: 210.65, Close: 223.41, Recovery: 12.76\n",
      "Date: 2022-05-04, Open: 210.65, Close: 223.41, Recovery: 12.76\n",
      "Date: 2022-05-04, Open: 210.65, Close: 223.41, Recovery: 12.76\n",
      "Date: 2022-01-31, Open: 300.68, Close: 313.26, Recovery: 12.58\n",
      "Date: 2022-01-31, Open: 300.68, Close: 313.26, Recovery: 12.58\n",
      "Date: 2022-01-31, Open: 300.68, Close: 313.26, Recovery: 12.58\n",
      "Date: 2022-01-31, Open: 300.68, Close: 313.26, Recovery: 12.58\n",
      "Date: 2022-01-31, Open: 300.68, Close: 313.26, Recovery: 12.58\n",
      "Date: 2020-06-29, Open: 209.75, Close: 220.64, Recovery: 10.89\n",
      "Date: 2020-06-29, Open: 209.75, Close: 220.64, Recovery: 10.89\n",
      "Date: 2020-06-29, Open: 209.75, Close: 220.64, Recovery: 10.89\n",
      "Date: 2020-06-29, Open: 209.75, Close: 220.64, Recovery: 10.89\n",
      "Date: 2020-06-29, Open: 209.75, Close: 220.64, Recovery: 10.89\n",
      "Date: 2022-01-24, Open: 297.84, Close: 308.71, Recovery: 10.87\n",
      "Date: 2022-01-24, Open: 297.84, Close: 308.71, Recovery: 10.87\n",
      "Date: 2022-01-24, Open: 297.84, Close: 308.71, Recovery: 10.87\n",
      "Date: 2022-01-24, Open: 297.84, Close: 308.71, Recovery: 10.87\n",
      "Date: 2022-01-24, Open: 297.84, Close: 308.71, Recovery: 10.87\n",
      "Date: 2021-11-12, Open: 330.18, Close: 340.89, Recovery: 10.71\n",
      "Date: 2021-11-12, Open: 330.18, Close: 340.89, Recovery: 10.71\n",
      "Date: 2021-11-12, Open: 330.18, Close: 340.89, Recovery: 10.71\n",
      "Date: 2021-11-12, Open: 330.18, Close: 340.89, Recovery: 10.71\n",
      "Date: 2021-11-12, Open: 330.18, Close: 340.89, Recovery: 10.71\n",
      "Date: 2022-06-02, Open: 188.45, Close: 198.86, Recovery: 10.41\n",
      "Date: 2022-06-02, Open: 188.45, Close: 198.86, Recovery: 10.41\n",
      "Date: 2022-06-02, Open: 188.45, Close: 198.86, Recovery: 10.41\n",
      "Date: 2022-06-02, Open: 188.45, Close: 198.86, Recovery: 10.41\n",
      "Date: 2022-06-02, Open: 188.45, Close: 198.86, Recovery: 10.41\n",
      "Date: 2022-01-14, Open: 321.79, Close: 331.90, Recovery: 10.11\n",
      "Date: 2022-01-14, Open: 321.79, Close: 331.90, Recovery: 10.11\n",
      "Date: 2022-01-14, Open: 321.79, Close: 331.90, Recovery: 10.11\n",
      "Date: 2022-01-14, Open: 321.79, Close: 331.90, Recovery: 10.11\n",
      "Date: 2022-01-14, Open: 321.79, Close: 331.90, Recovery: 10.11\n",
      "Date: 2022-07-05, Open: 158.14, Close: 168.19, Recovery: 10.05\n",
      "Date: 2022-07-05, Open: 158.14, Close: 168.19, Recovery: 10.05\n",
      "Date: 2022-07-05, Open: 158.14, Close: 168.19, Recovery: 10.05\n",
      "Date: 2022-07-05, Open: 158.14, Close: 168.19, Recovery: 10.05\n",
      "Date: 2022-07-05, Open: 158.14, Close: 168.19, Recovery: 10.05\n"
     ]
    }
   ],
   "source": [
    "cursor.execute(\"\"\"\n",
    "    SELECT \n",
    "        Date, \n",
    "        Open, \n",
    "        Close, \n",
    "        (Close - Open) AS Recovery\n",
    "    FROM meta_stock\n",
    "    WHERE (Close - Open) > 10\n",
    "    ORDER BY Recovery DESC;\n",
    "\"\"\")\n",
    "recovery_days = cursor.fetchall()\n",
    "print(\"Days with Significant Price Recovery:\")\n",
    "for row in recovery_days:\n",
    "    print(f\"Date: {row[0]}, Open: {row[1]:.2f}, Close: {row[2]:.2f}, Recovery: {row[3]:.2f}\")\n"
   ]
  },
  {
   "cell_type": "code",
   "execution_count": null,
   "id": "1a7a3c12-2be9-42b9-a574-345064370bd3",
   "metadata": {},
   "outputs": [],
   "source": []
  }
 ],
 "metadata": {
  "kernelspec": {
   "display_name": "Python 3 (ipykernel)",
   "language": "python",
   "name": "python3"
  },
  "language_info": {
   "codemirror_mode": {
    "name": "ipython",
    "version": 3
   },
   "file_extension": ".py",
   "mimetype": "text/x-python",
   "name": "python",
   "nbconvert_exporter": "python",
   "pygments_lexer": "ipython3",
   "version": "3.12.2"
  }
 },
 "nbformat": 4,
 "nbformat_minor": 5
}
